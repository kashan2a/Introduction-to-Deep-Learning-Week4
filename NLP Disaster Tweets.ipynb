{
 "cells": [
  {
   "cell_type": "markdown",
   "id": "76d3f6dd",
   "metadata": {},
   "source": [
    "### 1/ Brief description of the problem and data\n",
    "\n",
    "Given a collection of tweets labeled in relation to disasters, the present notebook will attempt to create a machine learning model able to learn and guess correctly the relation between the tweets content and the results. Given the tweets are texts, an LSTM seems to be a natural fit to this problem.\n",
    "\n",
    "The dataset provided on Kaggle (url: https://www.kaggle.com/competitions/nlp-getting-started/overview) contains more than 7000 tweets."
   ]
  },
  {
   "cell_type": "markdown",
   "id": "538dcfae",
   "metadata": {},
   "source": [
    "### 2/ Exploratory Data Analysis (EDA) — Inspect, Visualize and Clean the Data"
   ]
  },
  {
   "cell_type": "markdown",
   "id": "82cda3cc",
   "metadata": {},
   "source": [
    "Let's start with the usual imports."
   ]
  },
  {
   "cell_type": "code",
   "execution_count": 1,
   "id": "3d69084a",
   "metadata": {},
   "outputs": [],
   "source": [
    "# usual import\n",
    "import pandas as pd\n",
    "import matplotlib.pyplot as plt\n",
    "import numpy as np\n",
    "\n",
    "from sklearn import metrics\n",
    "from sklearn.model_selection import train_test_split\n",
    "from tensorflow.keras import optimizers\n",
    "from tensorflow.keras.models import Sequential\n",
    "from tensorflow.keras.layers import Dense, Embedding, LSTM, Dropout\n",
    "from tensorflow.keras.preprocessing.text import Tokenizer\n",
    "from tensorflow.keras.preprocessing.sequence import pad_sequences"
   ]
  },
  {
   "cell_type": "markdown",
   "id": "f32fcfae",
   "metadata": {},
   "source": [
    "Then, let's retrieve the train and test sets."
   ]
  },
  {
   "cell_type": "code",
   "execution_count": 2,
   "id": "a2f1503f",
   "metadata": {},
   "outputs": [],
   "source": [
    "# retrieve train and test set\n",
    "train = pd.read_csv(\"train.csv\")\n",
    "test = pd.read_csv(\"test.csv\")"
   ]
  },
  {
   "cell_type": "markdown",
   "id": "11122956",
   "metadata": {},
   "source": [
    "Let's look at the top of the train set."
   ]
  },
  {
   "cell_type": "code",
   "execution_count": 3,
   "id": "0d148256",
   "metadata": {},
   "outputs": [
    {
     "data": {
      "text/html": [
       "<div>\n",
       "<style scoped>\n",
       "    .dataframe tbody tr th:only-of-type {\n",
       "        vertical-align: middle;\n",
       "    }\n",
       "\n",
       "    .dataframe tbody tr th {\n",
       "        vertical-align: top;\n",
       "    }\n",
       "\n",
       "    .dataframe thead th {\n",
       "        text-align: right;\n",
       "    }\n",
       "</style>\n",
       "<table border=\"1\" class=\"dataframe\">\n",
       "  <thead>\n",
       "    <tr style=\"text-align: right;\">\n",
       "      <th></th>\n",
       "      <th>id</th>\n",
       "      <th>keyword</th>\n",
       "      <th>location</th>\n",
       "      <th>text</th>\n",
       "      <th>target</th>\n",
       "    </tr>\n",
       "  </thead>\n",
       "  <tbody>\n",
       "    <tr>\n",
       "      <th>0</th>\n",
       "      <td>1</td>\n",
       "      <td>NaN</td>\n",
       "      <td>NaN</td>\n",
       "      <td>Our Deeds are the Reason of this #earthquake M...</td>\n",
       "      <td>1</td>\n",
       "    </tr>\n",
       "    <tr>\n",
       "      <th>1</th>\n",
       "      <td>4</td>\n",
       "      <td>NaN</td>\n",
       "      <td>NaN</td>\n",
       "      <td>Forest fire near La Ronge Sask. Canada</td>\n",
       "      <td>1</td>\n",
       "    </tr>\n",
       "    <tr>\n",
       "      <th>2</th>\n",
       "      <td>5</td>\n",
       "      <td>NaN</td>\n",
       "      <td>NaN</td>\n",
       "      <td>All residents asked to 'shelter in place' are ...</td>\n",
       "      <td>1</td>\n",
       "    </tr>\n",
       "    <tr>\n",
       "      <th>3</th>\n",
       "      <td>6</td>\n",
       "      <td>NaN</td>\n",
       "      <td>NaN</td>\n",
       "      <td>13,000 people receive #wildfires evacuation or...</td>\n",
       "      <td>1</td>\n",
       "    </tr>\n",
       "    <tr>\n",
       "      <th>4</th>\n",
       "      <td>7</td>\n",
       "      <td>NaN</td>\n",
       "      <td>NaN</td>\n",
       "      <td>Just got sent this photo from Ruby #Alaska as ...</td>\n",
       "      <td>1</td>\n",
       "    </tr>\n",
       "  </tbody>\n",
       "</table>\n",
       "</div>"
      ],
      "text/plain": [
       "   id keyword location                                               text  \\\n",
       "0   1     NaN      NaN  Our Deeds are the Reason of this #earthquake M...   \n",
       "1   4     NaN      NaN             Forest fire near La Ronge Sask. Canada   \n",
       "2   5     NaN      NaN  All residents asked to 'shelter in place' are ...   \n",
       "3   6     NaN      NaN  13,000 people receive #wildfires evacuation or...   \n",
       "4   7     NaN      NaN  Just got sent this photo from Ruby #Alaska as ...   \n",
       "\n",
       "   target  \n",
       "0       1  \n",
       "1       1  \n",
       "2       1  \n",
       "3       1  \n",
       "4       1  "
      ]
     },
     "execution_count": 3,
     "metadata": {},
     "output_type": "execute_result"
    }
   ],
   "source": [
    "# first look at train set\n",
    "train.head()"
   ]
  },
  {
   "cell_type": "markdown",
   "id": "b909f371",
   "metadata": {},
   "source": [
    "We can see a lot of *NaN* in the **keyword** and **location** columns. We will have to clean them. Let's try to get a sense of the **id** and **target** columns."
   ]
  },
  {
   "cell_type": "code",
   "execution_count": 4,
   "id": "fbfd8cac",
   "metadata": {},
   "outputs": [
    {
     "data": {
      "text/html": [
       "<div>\n",
       "<style scoped>\n",
       "    .dataframe tbody tr th:only-of-type {\n",
       "        vertical-align: middle;\n",
       "    }\n",
       "\n",
       "    .dataframe tbody tr th {\n",
       "        vertical-align: top;\n",
       "    }\n",
       "\n",
       "    .dataframe thead th {\n",
       "        text-align: right;\n",
       "    }\n",
       "</style>\n",
       "<table border=\"1\" class=\"dataframe\">\n",
       "  <thead>\n",
       "    <tr style=\"text-align: right;\">\n",
       "      <th></th>\n",
       "      <th>id</th>\n",
       "      <th>target</th>\n",
       "    </tr>\n",
       "  </thead>\n",
       "  <tbody>\n",
       "    <tr>\n",
       "      <th>count</th>\n",
       "      <td>7613.000000</td>\n",
       "      <td>7613.00000</td>\n",
       "    </tr>\n",
       "    <tr>\n",
       "      <th>mean</th>\n",
       "      <td>5441.934848</td>\n",
       "      <td>0.42966</td>\n",
       "    </tr>\n",
       "    <tr>\n",
       "      <th>std</th>\n",
       "      <td>3137.116090</td>\n",
       "      <td>0.49506</td>\n",
       "    </tr>\n",
       "    <tr>\n",
       "      <th>min</th>\n",
       "      <td>1.000000</td>\n",
       "      <td>0.00000</td>\n",
       "    </tr>\n",
       "    <tr>\n",
       "      <th>25%</th>\n",
       "      <td>2734.000000</td>\n",
       "      <td>0.00000</td>\n",
       "    </tr>\n",
       "    <tr>\n",
       "      <th>50%</th>\n",
       "      <td>5408.000000</td>\n",
       "      <td>0.00000</td>\n",
       "    </tr>\n",
       "    <tr>\n",
       "      <th>75%</th>\n",
       "      <td>8146.000000</td>\n",
       "      <td>1.00000</td>\n",
       "    </tr>\n",
       "    <tr>\n",
       "      <th>max</th>\n",
       "      <td>10873.000000</td>\n",
       "      <td>1.00000</td>\n",
       "    </tr>\n",
       "  </tbody>\n",
       "</table>\n",
       "</div>"
      ],
      "text/plain": [
       "                 id      target\n",
       "count   7613.000000  7613.00000\n",
       "mean    5441.934848     0.42966\n",
       "std     3137.116090     0.49506\n",
       "min        1.000000     0.00000\n",
       "25%     2734.000000     0.00000\n",
       "50%     5408.000000     0.00000\n",
       "75%     8146.000000     1.00000\n",
       "max    10873.000000     1.00000"
      ]
     },
     "execution_count": 4,
     "metadata": {},
     "output_type": "execute_result"
    }
   ],
   "source": [
    "# trying to get a sense of the data\n",
    "train.describe()"
   ]
  },
  {
   "cell_type": "markdown",
   "id": "973efd08",
   "metadata": {},
   "source": [
    "These columns seems numerical, so let's check for *Null* and *NaN* in the dataset."
   ]
  },
  {
   "cell_type": "code",
   "execution_count": 5,
   "id": "357ea9f9",
   "metadata": {},
   "outputs": [
    {
     "name": "stdout",
     "output_type": "stream",
     "text": [
      "<class 'pandas.core.frame.DataFrame'>\n",
      "RangeIndex: 7613 entries, 0 to 7612\n",
      "Data columns (total 5 columns):\n",
      " #   Column    Non-Null Count  Dtype \n",
      "---  ------    --------------  ----- \n",
      " 0   id        7613 non-null   int64 \n",
      " 1   keyword   7552 non-null   object\n",
      " 2   location  5080 non-null   object\n",
      " 3   text      7613 non-null   object\n",
      " 4   target    7613 non-null   int64 \n",
      "dtypes: int64(2), object(3)\n",
      "memory usage: 297.5+ KB\n"
     ]
    }
   ],
   "source": [
    "# checking for null/na\n",
    "train.info()"
   ]
  },
  {
   "cell_type": "markdown",
   "id": "6c3b2cb8",
   "metadata": {},
   "source": [
    "We can see we need to clean the **keyword** and **location** column. We will replace *NaN* with a blank string."
   ]
  },
  {
   "cell_type": "code",
   "execution_count": 6,
   "id": "466f6ab1",
   "metadata": {},
   "outputs": [
    {
     "data": {
      "text/html": [
       "<div>\n",
       "<style scoped>\n",
       "    .dataframe tbody tr th:only-of-type {\n",
       "        vertical-align: middle;\n",
       "    }\n",
       "\n",
       "    .dataframe tbody tr th {\n",
       "        vertical-align: top;\n",
       "    }\n",
       "\n",
       "    .dataframe thead th {\n",
       "        text-align: right;\n",
       "    }\n",
       "</style>\n",
       "<table border=\"1\" class=\"dataframe\">\n",
       "  <thead>\n",
       "    <tr style=\"text-align: right;\">\n",
       "      <th></th>\n",
       "      <th>id</th>\n",
       "      <th>keyword</th>\n",
       "      <th>location</th>\n",
       "      <th>text</th>\n",
       "      <th>target</th>\n",
       "    </tr>\n",
       "  </thead>\n",
       "  <tbody>\n",
       "    <tr>\n",
       "      <th>0</th>\n",
       "      <td>1</td>\n",
       "      <td></td>\n",
       "      <td></td>\n",
       "      <td>Our Deeds are the Reason of this #earthquake M...</td>\n",
       "      <td>1</td>\n",
       "    </tr>\n",
       "    <tr>\n",
       "      <th>1</th>\n",
       "      <td>4</td>\n",
       "      <td></td>\n",
       "      <td></td>\n",
       "      <td>Forest fire near La Ronge Sask. Canada</td>\n",
       "      <td>1</td>\n",
       "    </tr>\n",
       "    <tr>\n",
       "      <th>2</th>\n",
       "      <td>5</td>\n",
       "      <td></td>\n",
       "      <td></td>\n",
       "      <td>All residents asked to 'shelter in place' are ...</td>\n",
       "      <td>1</td>\n",
       "    </tr>\n",
       "    <tr>\n",
       "      <th>3</th>\n",
       "      <td>6</td>\n",
       "      <td></td>\n",
       "      <td></td>\n",
       "      <td>13,000 people receive #wildfires evacuation or...</td>\n",
       "      <td>1</td>\n",
       "    </tr>\n",
       "    <tr>\n",
       "      <th>4</th>\n",
       "      <td>7</td>\n",
       "      <td></td>\n",
       "      <td></td>\n",
       "      <td>Just got sent this photo from Ruby #Alaska as ...</td>\n",
       "      <td>1</td>\n",
       "    </tr>\n",
       "  </tbody>\n",
       "</table>\n",
       "</div>"
      ],
      "text/plain": [
       "   id keyword location                                               text  \\\n",
       "0   1                   Our Deeds are the Reason of this #earthquake M...   \n",
       "1   4                              Forest fire near La Ronge Sask. Canada   \n",
       "2   5                   All residents asked to 'shelter in place' are ...   \n",
       "3   6                   13,000 people receive #wildfires evacuation or...   \n",
       "4   7                   Just got sent this photo from Ruby #Alaska as ...   \n",
       "\n",
       "   target  \n",
       "0       1  \n",
       "1       1  \n",
       "2       1  \n",
       "3       1  \n",
       "4       1  "
      ]
     },
     "execution_count": 6,
     "metadata": {},
     "output_type": "execute_result"
    }
   ],
   "source": [
    "# replace NA with a blank\n",
    "train['keyword'] = train['keyword'].fillna(\"\")\n",
    "train['location'] = train['location'].fillna(\"\")\n",
    "\n",
    "# confirm update\n",
    "train.head()"
   ]
  },
  {
   "cell_type": "markdown",
   "id": "6bca9284",
   "metadata": {},
   "source": [
    "Let's validate our cleaning is successful."
   ]
  },
  {
   "cell_type": "code",
   "execution_count": 7,
   "id": "7fdedada",
   "metadata": {},
   "outputs": [
    {
     "name": "stdout",
     "output_type": "stream",
     "text": [
      "<class 'pandas.core.frame.DataFrame'>\n",
      "RangeIndex: 7613 entries, 0 to 7612\n",
      "Data columns (total 5 columns):\n",
      " #   Column    Non-Null Count  Dtype \n",
      "---  ------    --------------  ----- \n",
      " 0   id        7613 non-null   int64 \n",
      " 1   keyword   7613 non-null   object\n",
      " 2   location  7613 non-null   object\n",
      " 3   text      7613 non-null   object\n",
      " 4   target    7613 non-null   int64 \n",
      "dtypes: int64(2), object(3)\n",
      "memory usage: 297.5+ KB\n"
     ]
    }
   ],
   "source": [
    "# confirm update\n",
    "train.info()"
   ]
  },
  {
   "cell_type": "markdown",
   "id": "7253bbdc",
   "metadata": {},
   "source": [
    "Ok, let's have a deeper look at the **keyword** column."
   ]
  },
  {
   "cell_type": "code",
   "execution_count": 8,
   "id": "f0478a42",
   "metadata": {
    "scrolled": true
   },
   "outputs": [
    {
     "name": "stdout",
     "output_type": "stream",
     "text": [
      "222\n",
      "['' 'ablaze' 'accident' 'aftershock' 'airplane%20accident' 'ambulance'\n",
      " 'annihilated' 'annihilation' 'apocalypse' 'armageddon']\n"
     ]
    }
   ],
   "source": [
    "# check list of unique keyword\n",
    "print(len(train['keyword'].unique()))\n",
    "print(train['keyword'].unique()[0:10])"
   ]
  },
  {
   "cell_type": "markdown",
   "id": "1cc71235",
   "metadata": {},
   "source": [
    "Nothing of note, let's check the distribution per keyword."
   ]
  },
  {
   "cell_type": "code",
   "execution_count": 9,
   "id": "b8468d0b",
   "metadata": {},
   "outputs": [
    {
     "data": {
      "text/plain": [
       "<Axes: >"
      ]
     },
     "execution_count": 9,
     "metadata": {},
     "output_type": "execute_result"
    },
    {
     "data": {
      "image/png": "[encoded data removed]",
      "text/plain": [
       "<Figure size 640x480 with 1 Axes>"
      ]
     },
     "metadata": {},
     "output_type": "display_data"
    }
   ],
   "source": [
    "# histogram of keyword\n",
    "train['keyword'].hist()"
   ]
  },
  {
   "cell_type": "markdown",
   "id": "66f839af",
   "metadata": {},
   "source": [
    "We can see the data seems more or less evenly distributed.\n",
    "\n",
    "Let's do the same checks for the **location** column."
   ]
  },
  {
   "cell_type": "code",
   "execution_count": 10,
   "id": "0b0f3952",
   "metadata": {},
   "outputs": [
    {
     "name": "stdout",
     "output_type": "stream",
     "text": [
      "3342\n",
      "['' 'Birmingham' 'Est. September 2012 - Bristol' 'AFRICA'\n",
      " 'Philadelphia, PA' 'London, UK' 'Pretoria' 'World Wide!!'\n",
      " 'Paranaque City' 'Live On Webcam']\n"
     ]
    }
   ],
   "source": [
    "# check list of unique location\n",
    "print(len(train['location'].unique()))\n",
    "print(train[\"location\"].unique()[0:10])"
   ]
  },
  {
   "cell_type": "markdown",
   "id": "89d61371",
   "metadata": {},
   "source": [
    "We can see some special character, which are probably not usefull for our analysis. Let's remove them."
   ]
  },
  {
   "cell_type": "code",
   "execution_count": 11,
   "id": "f507594e",
   "metadata": {},
   "outputs": [],
   "source": [
    "# cleaning of location names\n",
    "train['location'] = train['location'].apply(lambda x : x.strip().capitalize()).str.replace('\\W', '', regex=True)"
   ]
  },
  {
   "cell_type": "markdown",
   "id": "845a1420",
   "metadata": {},
   "source": [
    "Now let's check the distribution."
   ]
  },
  {
   "cell_type": "code",
   "execution_count": 12,
   "id": "261f0b9f",
   "metadata": {},
   "outputs": [
    {
     "data": {
      "text/plain": [
       "<Axes: >"
      ]
     },
     "execution_count": 12,
     "metadata": {},
     "output_type": "execute_result"
    },
    {
     "data": {
      "image/png": "[encoded data removed]",
      "text/plain": [
       "<Figure size 640x480 with 1 Axes>"
      ]
     },
     "metadata": {},
     "output_type": "display_data"
    }
   ],
   "source": [
    "# histogram of location\n",
    "train['location'].hist()"
   ]
  },
  {
   "cell_type": "markdown",
   "id": "e412d266",
   "metadata": {},
   "source": [
    "This graph is not providing any information usefull information.\n",
    "\n",
    "Let's check the distribution of the **label** column."
   ]
  },
  {
   "cell_type": "code",
   "execution_count": 13,
   "id": "e8d6d09f",
   "metadata": {},
   "outputs": [
    {
     "data": {
      "text/plain": [
       "0    4342\n",
       "1    3271\n",
       "Name: target, dtype: int64"
      ]
     },
     "execution_count": 13,
     "metadata": {},
     "output_type": "execute_result"
    }
   ],
   "source": [
    "# look at distribution of results\n",
    "train['target'].value_counts()"
   ]
  },
  {
   "cell_type": "markdown",
   "id": "6f0eaa7b",
   "metadata": {},
   "source": [
    "There are more tweets not linked to disasters than tweets that are, but the margin is not significant.\n",
    "\n",
    "Finally, let's clean the text of the tweets themselves to remove special characters."
   ]
  },
  {
   "cell_type": "code",
   "execution_count": 14,
   "id": "2e5f80ad",
   "metadata": {},
   "outputs": [],
   "source": [
    "# clean text from special character\n",
    "train['text'] = train['text'].apply(lambda x : x.strip().capitalize()).str.replace('\\W', '', regex=True)"
   ]
  },
  {
   "cell_type": "markdown",
   "id": "6018b3d7",
   "metadata": {},
   "source": [
    "Our data is now ready."
   ]
  },
  {
   "cell_type": "markdown",
   "id": "4130a471",
   "metadata": {},
   "source": [
    "### 3/ Model Architecture"
   ]
  },
  {
   "cell_type": "markdown",
   "id": "dd5c9b4d",
   "metadata": {},
   "source": [
    "Since we are handling text, we need to tokenize the words to feed the LSTM model later."
   ]
  },
  {
   "cell_type": "code",
   "execution_count": 15,
   "id": "0d907df3",
   "metadata": {},
   "outputs": [],
   "source": [
    "# instance tokenizer with 4000 words max\n",
    "tokenizer_ = Tokenizer(num_words = 4000, split = ' ')\n",
    "\n",
    "# fit on train text\n",
    "tokenizer_.fit_on_texts(train['text'].values)\n",
    "\n",
    "# retrieve sequences\n",
    "train_token = tokenizer_.texts_to_sequences(train['text'].values)\n",
    "train_token = pad_sequences(train_token)"
   ]
  },
  {
   "cell_type": "markdown",
   "id": "2b35f127",
   "metadata": {},
   "source": [
    "Now let's do a classic 80%/20% train/val split."
   ]
  },
  {
   "cell_type": "code",
   "execution_count": 16,
   "id": "b12c5765",
   "metadata": {},
   "outputs": [],
   "source": [
    "# standard train/test split\n",
    "x_train, x_val, y_train, y_val = train_test_split(train_token, train['target'], test_size = 0.2)"
   ]
  },
  {
   "cell_type": "markdown",
   "id": "1d5fac61",
   "metadata": {},
   "source": [
    "We are now ready to create our model. We will keep it simple and use:\n",
    "* one _embedding_ layer to feed the data\n",
    "* one _dropout_ layer to prevent overfitting\n",
    "* one _LSTM_ layer\n",
    "* one _dense_ layer with _sigmoid_ for binary classification of the results"
   ]
  },
  {
   "cell_type": "code",
   "execution_count": 17,
   "id": "b35fa328",
   "metadata": {},
   "outputs": [],
   "source": [
    "# instance model\n",
    "model = Sequential()\n",
    "# add input\n",
    "model.add(Embedding(4000, 64, input_length = train_token.shape[1]))\n",
    "# add dropout to prevent overfitting\n",
    "model.add(Dropout(0.2))\n",
    "# add LSTM layer\n",
    "model.add(LSTM(64,dropout=0.25, recurrent_dropout=0.25))\n",
    "# add acitvation layer\n",
    "model.add(Dense(1, activation='sigmoid'))\n",
    "\n",
    "# choose optimizer (here RMSprop)\n",
    "opt = optimizers.RMSprop(learning_rate=0.001)"
   ]
  },
  {
   "cell_type": "markdown",
   "id": "e52ad7b9",
   "metadata": {},
   "source": [
    "We can now compile our model."
   ]
  },
  {
   "cell_type": "code",
   "execution_count": 18,
   "id": "fd343289",
   "metadata": {},
   "outputs": [
    {
     "name": "stdout",
     "output_type": "stream",
     "text": [
      "Model: \"sequential\"\n",
      "_________________________________________________________________\n",
      " Layer (type)                Output Shape              Param #   \n",
      "=================================================================\n",
      " embedding (Embedding)       (None, 4, 64)             256000    \n",
      "                                                                 \n",
      " dropout (Dropout)           (None, 4, 64)             0         \n",
      "                                                                 \n",
      " lstm (LSTM)                 (None, 64)                33024     \n",
      "                                                                 \n",
      " dense (Dense)               (None, 1)                 65        \n",
      "                                                                 \n",
      "=================================================================\n",
      "Total params: 289,089\n",
      "Trainable params: 289,089\n",
      "Non-trainable params: 0\n",
      "_________________________________________________________________\n"
     ]
    }
   ],
   "source": [
    "# compile model\n",
    "model.compile(loss = 'binary_crossentropy', optimizer=opt, metrics = ['accuracy'])\n",
    "\n",
    "# check model summary\n",
    "model.summary()"
   ]
  },
  {
   "cell_type": "markdown",
   "id": "5ae343cf",
   "metadata": {},
   "source": [
    "The model is ready, so let's train it."
   ]
  },
  {
   "cell_type": "code",
   "execution_count": 19,
   "id": "30e48750",
   "metadata": {},
   "outputs": [
    {
     "name": "stdout",
     "output_type": "stream",
     "text": [
      "Epoch 1/20\n",
      "96/96 [==============================] - 2s 8ms/step - loss: 0.6837 - accuracy: 0.5742 - val_loss: 0.6882 - val_accuracy: 0.5509\n",
      "Epoch 2/20\n",
      "96/96 [==============================] - 0s 4ms/step - loss: 0.6824 - accuracy: 0.5752 - val_loss: 0.6904 - val_accuracy: 0.5509\n",
      "Epoch 3/20\n",
      "96/96 [==============================] - 0s 5ms/step - loss: 0.6813 - accuracy: 0.5752 - val_loss: 0.6898 - val_accuracy: 0.5509\n",
      "Epoch 4/20\n",
      "96/96 [==============================] - 0s 5ms/step - loss: 0.6802 - accuracy: 0.5752 - val_loss: 0.6880 - val_accuracy: 0.5509\n",
      "Epoch 5/20\n",
      "96/96 [==============================] - 0s 4ms/step - loss: 0.6761 - accuracy: 0.5759 - val_loss: 0.6903 - val_accuracy: 0.5509\n",
      "Epoch 6/20\n",
      "96/96 [==============================] - 0s 4ms/step - loss: 0.6682 - accuracy: 0.5768 - val_loss: 0.6886 - val_accuracy: 0.5522\n",
      "Epoch 7/20\n",
      "96/96 [==============================] - 0s 4ms/step - loss: 0.6510 - accuracy: 0.5890 - val_loss: 0.6878 - val_accuracy: 0.5522\n",
      "Epoch 8/20\n",
      "96/96 [==============================] - 0s 4ms/step - loss: 0.6159 - accuracy: 0.6430 - val_loss: 0.6899 - val_accuracy: 0.5542\n",
      "Epoch 9/20\n",
      "96/96 [==============================] - 0s 5ms/step - loss: 0.5599 - accuracy: 0.7151 - val_loss: 0.6854 - val_accuracy: 0.5575\n",
      "Epoch 10/20\n",
      "96/96 [==============================] - 0s 5ms/step - loss: 0.4873 - accuracy: 0.7548 - val_loss: 0.6967 - val_accuracy: 0.5049\n",
      "Epoch 11/20\n",
      "96/96 [==============================] - 1s 5ms/step - loss: 0.4272 - accuracy: 0.7585 - val_loss: 0.7041 - val_accuracy: 0.5522\n",
      "Epoch 12/20\n",
      "96/96 [==============================] - 0s 5ms/step - loss: 0.3925 - accuracy: 0.7624 - val_loss: 0.7504 - val_accuracy: 0.5496\n",
      "Epoch 13/20\n",
      "96/96 [==============================] - 0s 4ms/step - loss: 0.3723 - accuracy: 0.7701 - val_loss: 0.7346 - val_accuracy: 0.5410\n",
      "Epoch 14/20\n",
      "96/96 [==============================] - 0s 5ms/step - loss: 0.3650 - accuracy: 0.7655 - val_loss: 0.7637 - val_accuracy: 0.4957\n",
      "Epoch 15/20\n",
      "96/96 [==============================] - 0s 4ms/step - loss: 0.3618 - accuracy: 0.7658 - val_loss: 0.7549 - val_accuracy: 0.5404\n",
      "Epoch 16/20\n",
      "96/96 [==============================] - 0s 5ms/step - loss: 0.3596 - accuracy: 0.7690 - val_loss: 0.7529 - val_accuracy: 0.4977\n",
      "Epoch 17/20\n",
      "96/96 [==============================] - 0s 4ms/step - loss: 0.3572 - accuracy: 0.7660 - val_loss: 0.7530 - val_accuracy: 0.4997\n",
      "Epoch 18/20\n",
      "96/96 [==============================] - 0s 5ms/step - loss: 0.3578 - accuracy: 0.7637 - val_loss: 0.7531 - val_accuracy: 0.5397\n",
      "Epoch 19/20\n",
      "96/96 [==============================] - 0s 4ms/step - loss: 0.3562 - accuracy: 0.7658 - val_loss: 0.7500 - val_accuracy: 0.5450\n",
      "Epoch 20/20\n",
      "96/96 [==============================] - 0s 5ms/step - loss: 0.3541 - accuracy: 0.7739 - val_loss: 0.7601 - val_accuracy: 0.5364\n"
     ]
    }
   ],
   "source": [
    "# train the model\n",
    "history = model.fit(x_train, y_train, epochs = 20, batch_size=64, validation_data=(x_val, y_val))"
   ]
  },
  {
   "cell_type": "markdown",
   "id": "de2a4c50",
   "metadata": {},
   "source": [
    "We can now move onto analyzing our model performance."
   ]
  },
  {
   "cell_type": "markdown",
   "id": "412bacbf",
   "metadata": {},
   "source": [
    "### 4/ Results and Analysis"
   ]
  },
  {
   "cell_type": "markdown",
   "id": "37282e82",
   "metadata": {},
   "source": [
    "We can see that the model does not perform well:\n",
    "* while the accuracy of the train set increases, the validate set accuracy doesn't\n",
    "* the accuracy of the train set plateaus, and an _early stopping_ could be used\n",
    "* the overall accuracy of the train set doesn't reach 80%\n",
    "* the accuracy of the validate set is around 0.5, which is to say as good as random\n",
    "\n",
    "Let's check the final prediction accuracy."
   ]
  },
  {
   "cell_type": "code",
   "execution_count": 20,
   "id": "584b6c16",
   "metadata": {},
   "outputs": [
    {
     "name": "stdout",
     "output_type": "stream",
     "text": [
      "48/48 [==============================] - 0s 1ms/step\n"
     ]
    },
    {
     "data": {
      "text/plain": [
       "0.5364412344057781"
      ]
     },
     "execution_count": 20,
     "metadata": {},
     "output_type": "execute_result"
    }
   ],
   "source": [
    "# predictions for validate set\n",
    "y_pred = model.predict(x_val).round()\n",
    "metrics.accuracy_score(y_val, y_pred)"
   ]
  },
  {
   "cell_type": "markdown",
   "id": "26e69452",
   "metadata": {},
   "source": [
    "The accuracy is indeed around 0.5."
   ]
  },
  {
   "cell_type": "code",
   "execution_count": 21,
   "id": "b2b3d27d",
   "metadata": {},
   "outputs": [
    {
     "data": {
      "image/png": "[encoded data removed]",
      "text/plain": [
       "<Figure size 640x480 with 1 Axes>"
      ]
     },
     "metadata": {},
     "output_type": "display_data"
    }
   ],
   "source": [
    "# plot accuracy (train/val) history\n",
    "plt.plot(history.history['accuracy'])\n",
    "plt.plot(history.history['val_accuracy'])\n",
    "plt.title('Train/Validate Accuracy over time')\n",
    "plt.ylabel('accuracy')\n",
    "plt.xlabel('epoch')\n",
    "plt.legend(['train', 'validate'], loc='upper left')\n",
    "plt.show()"
   ]
  },
  {
   "cell_type": "markdown",
   "id": "edb747a3",
   "metadata": {},
   "source": [
    "We can clearly see that the accuracy of the train set increases quickly to stabilise at around 77%.\n",
    "\n",
    "However the accuracy of the validate set seems to fluctuate around the 50% mark, that is to say random.\n",
    "\n",
    "This last part is extremely puzzling, the model tells us it can effectively learn, but the learning is useless to the validate set."
   ]
  },
  {
   "cell_type": "markdown",
   "id": "c3c343f0",
   "metadata": {},
   "source": [
    "#### 4.5/ Submission"
   ]
  },
  {
   "cell_type": "markdown",
   "id": "92bbe10b",
   "metadata": {},
   "source": [
    "In order to prepare the submission, we need to clean the test set in a manner similar to the train set."
   ]
  },
  {
   "cell_type": "code",
   "execution_count": 22,
   "id": "232b8246",
   "metadata": {},
   "outputs": [],
   "source": [
    "# clean test set\n",
    "test['keyword'] = test['keyword'].fillna(\"\")\n",
    "test['location'] = test['location'].fillna(\"\")\n",
    "test['text'] = test['text'].apply(lambda x : x.strip().capitalize()).str.replace('\\W', '', regex=True)\n",
    "test['location'] = test['location'].apply(lambda x : x.strip().capitalize()).str.replace('\\W', '', regex=True)"
   ]
  },
  {
   "cell_type": "markdown",
   "id": "ab6351dc",
   "metadata": {},
   "source": [
    "Next, we need to tokenize the words of the test set."
   ]
  },
  {
   "cell_type": "code",
   "execution_count": 23,
   "id": "b0fbfe78",
   "metadata": {},
   "outputs": [],
   "source": [
    "# retieve sequences for test\n",
    "test_token = tokenizer_.texts_to_sequences(test['text'].values)\n",
    "test_token = pad_sequences(test_token, maxlen = 4)"
   ]
  },
  {
   "cell_type": "markdown",
   "id": "f7e0565c",
   "metadata": {},
   "source": [
    "We are now ready to predict the output of the test set."
   ]
  },
  {
   "cell_type": "code",
   "execution_count": 24,
   "id": "f30255f9",
   "metadata": {},
   "outputs": [
    {
     "name": "stdout",
     "output_type": "stream",
     "text": [
      "102/102 [==============================] - 0s 909us/step\n"
     ]
    }
   ],
   "source": [
    "# generate prediction using our model\n",
    "y_hat = model.predict(test_token).round().astype('int')"
   ]
  },
  {
   "cell_type": "markdown",
   "id": "a20530ce",
   "metadata": {},
   "source": [
    "Let's write the ouput into a csv file."
   ]
  },
  {
   "cell_type": "code",
   "execution_count": 25,
   "id": "c4d4a6fe",
   "metadata": {},
   "outputs": [],
   "source": [
    "# write prediction to file for submission\n",
    "predictions = np.transpose(y_hat)[0]\n",
    "submission = pd.read_csv(\"sample_submission.csv\")\n",
    "submission['id'] = test['id']\n",
    "submission['target'] = predictions\n",
    "submission.to_csv('submission.csv', index=False)"
   ]
  },
  {
   "cell_type": "markdown",
   "id": "9a5730c6",
   "metadata": {},
   "source": [
    "### 5/ Conclusion\n",
    "\n",
    "While this project is a failure, as the model fails to predict barely better than average, it was very interesting overall.\n",
    "\n",
    "In order to increase the accuracy of the validate set, I tried the following, without success:\n",
    "* concatenate the **keyword** and **location** to the **text** column\n",
    "* change the _dropout rate_\n",
    "* change the _number of words_\n",
    "* change the _optimizer_\n",
    "* change the optimizer _learning rate_\n",
    "\n",
    "At best, the accuracy of the train set further increased to 80%, but the accuracy of the validate set never overcome 60%. Some of the noted effects were a stabilization of the accuracy curve over time, but the end results were disappointing regardless.\n",
    "\n",
    "If I were to work on this dataset again, here are some ideas to obtain a better score:\n",
    "* provide more in-depth data cleaning of the tweets texts\n",
    "* use a completely different model than LSTM\n",
    "* use LSTM but make it much deeper"
   ]
  }
 ],
 "metadata": {
  "kernelspec": {
   "display_name": "Python 3 (ipykernel)",
   "language": "python",
   "name": "python3"
  },
  "language_info": {
   "codemirror_mode": {
    "name": "ipython",
    "version": 3
   },
   "file_extension": ".py",
   "mimetype": "text/x-python",
   "name": "python",
   "nbconvert_exporter": "python",
   "pygments_lexer": "ipython3",
   "version": "3.10.9"
  }
 },
 "nbformat": 4,
 "nbformat_minor": 5
}
